{
  "cells": [
    {
      "cell_type": "code",
      "execution_count": 15,
      "metadata": {
        "id": "jYredqpo3dnN"
      },
      "outputs": [],
      "source": [
        "import pandas as pd\n",
        "from sklearn.metrics import classification_report\n",
        "from sklearn.model_selection import train_test_split\n",
        "from sklearn import metrics\n",
        "from sklearn.ensemble import RandomForestClassifier\n",
        "from sklearn.preprocessing import LabelEncoder"
      ]
    },
    {
      "cell_type": "code",
      "execution_count": 16,
      "metadata": {
        "id": "qSn9Lnn_3lhw"
      },
      "outputs": [],
      "source": [
        "data = pd.read_csv(\"/content/fertilizer_recommendation.csv\")\n"
      ]
    },
    {
      "cell_type": "code",
      "execution_count": 17,
      "metadata": {
        "id": "jkvX90Rq4CW5"
      },
      "outputs": [],
      "source": [
        "label_encoders = {}\n",
        "for column in [\"Soil Type\", \"Crop Type\", \"Fertilizer Name\"]:\n",
        "    label_encoders[column] = LabelEncoder()\n",
        "    data[column] = label_encoders[column].fit_transform(data[column])\n"
      ]
    },
    {
      "cell_type": "code",
      "execution_count": 22,
      "metadata": {
        "colab": {
          "base_uri": "https://localhost:8080/"
        },
        "id": "K14ONTuK4OWN",
        "outputId": "60770f37-c9d5-46b5-cc55-466f731613fd"
      },
      "outputs": [
        {
          "output_type": "stream",
          "name": "stdout",
          "text": [
            "Index(['Temparature', 'Humidity', 'Soil Moisture', 'Soil Type', 'Crop Type',\n",
            "       'Nitrogen', 'Potassium', 'Phosphorous', 'Fertilizer Name'],\n",
            "      dtype='object')\n"
          ]
        }
      ],
      "source": [
        "print(data.columns)"
      ]
    },
    {
      "cell_type": "code",
      "execution_count": 18,
      "metadata": {
        "id": "IpY54SMQ4mUF"
      },
      "outputs": [],
      "source": [
        "# Split data\n",
        "X = data[data.columns[:-1]]\n",
        "y = data[data.columns[-1]]\n",
        "X_train, X_test, y_train, y_test = train_test_split(X.values, y, test_size=0.2, random_state=3)\n"
      ]
    },
    {
      "cell_type": "markdown",
      "source": [
        "**Random Forest**\n"
      ],
      "metadata": {
        "id": "qlvXxwuzR6Dr"
      }
    },
    {
      "cell_type": "code",
      "execution_count": 19,
      "metadata": {
        "id": "w5RTQDCe4xLh",
        "colab": {
          "base_uri": "https://localhost:8080/"
        },
        "outputId": "dce59ce9-8770-4f1b-81f1-ea74e52eee7b"
      },
      "outputs": [
        {
          "output_type": "stream",
          "name": "stdout",
          "text": [
            "Random Forest Accuracy: 100.0\n",
            "              precision    recall  f1-score   support\n",
            "\n",
            "           1       1.00      1.00      1.00         4\n",
            "           2       1.00      1.00      1.00         2\n",
            "           3       1.00      1.00      1.00         3\n",
            "           4       1.00      1.00      1.00         5\n",
            "           5       1.00      1.00      1.00         2\n",
            "           6       1.00      1.00      1.00         4\n",
            "\n",
            "    accuracy                           1.00        20\n",
            "   macro avg       1.00      1.00      1.00        20\n",
            "weighted avg       1.00      1.00      1.00        20\n",
            "\n"
          ]
        }
      ],
      "source": [
        "# Train Random Forest classifier\n",
        "RF = RandomForestClassifier()\n",
        "RF.fit(X_train, y_train)\n",
        "predicted = RF.predict(X_test)\n",
        "accuracy = metrics.accuracy_score(y_test, predicted)\n",
        "print(\"Random Forest Accuracy:\", accuracy * 100)\n",
        "print(classification_report(y_test, predicted))"
      ]
    },
    {
      "cell_type": "code",
      "source": [
        "import joblib\n",
        "\n",
        "# Train Random Forest classifier\n",
        "RF = RandomForestClassifier()\n",
        "RF.fit(X_train, y_train)\n",
        "\n",
        "# Save the model\n",
        "joblib.dump(RF, 'ferti_recommend_model.pkl')\n"
      ],
      "metadata": {
        "colab": {
          "base_uri": "https://localhost:8080/"
        },
        "id": "ulrOgoaxSCek",
        "outputId": "e94576ff-8068-4e41-f181-7c2e8dc604d6"
      },
      "execution_count": 21,
      "outputs": [
        {
          "output_type": "execute_result",
          "data": {
            "text/plain": [
              "['ferti_recommend_model.pkl']"
            ]
          },
          "metadata": {},
          "execution_count": 21
        }
      ]
    }
  ],
  "metadata": {
    "colab": {
      "provenance": []
    },
    "kernelspec": {
      "display_name": "Python 3 (ipykernel)",
      "language": "python",
      "name": "python3"
    },
    "language_info": {
      "codemirror_mode": {
        "name": "ipython",
        "version": 3
      },
      "file_extension": ".py",
      "mimetype": "text/x-python",
      "name": "python",
      "nbconvert_exporter": "python",
      "pygments_lexer": "ipython3",
      "version": "3.9.13"
    }
  },
  "nbformat": 4,
  "nbformat_minor": 0
}